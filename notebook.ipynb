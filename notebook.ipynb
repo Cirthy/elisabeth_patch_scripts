{
  "metadata": {
    "kernelspec": {
      "name": "python",
      "display_name": "Python (Pyodide)",
      "language": "python"
    },
    "language_info": {
      "codemirror_mode": {
        "name": "python",
        "version": 3
      },
      "file_extension": ".py",
      "mimetype": "text/x-python",
      "name": "python",
      "nbconvert_exporter": "python",
      "pygments_lexer": "ipython3",
      "version": "3.8"
    }
  },
  "nbformat_minor": 4,
  "nbformat": 4,
  "cells": [
    {
      "cell_type": "markdown",
      "source": "## Values appearing in the paper",
      "metadata": {}
    },
    {
      "cell_type": "code",
      "source": "import pickle\nfrom math import log2",
      "metadata": {},
      "execution_count": 1,
      "outputs": []
    },
    {
      "cell_type": "code",
      "source": "with open('../data/results', 'rb') as fd:\n    results = pickle.load(fd)\nwith open('../data/results_nl', 'rb') as fd:\n    results_nl = pickle.load(fd)",
      "metadata": {},
      "execution_count": 21,
      "outputs": []
    },
    {
      "cell_type": "code",
      "source": "with open('../data/margrethe/results', 'rb') as fd:\n    results = pickle.load(fd)\nwith open('../data/margrethe/results_nl', 'rb') as fd:\n    results_nl = pickle.load(fd)",
      "metadata": {},
      "execution_count": 2,
      "outputs": []
    },
    {
      "cell_type": "code",
      "source": "min_nls = [results_nl[0][0][0], results_nl[0][1][0], results_nl[0][2][0]]\nmin_degs = [results[\"deg_subfonctions\"][0][0][0], results[\"deg_subfonctions\"][0][1][0], results[\"deg_subfonctions\"][0][2][0]]\nfor deg_subfonctions, nl_subfonctions in zip(results[\"deg_subfonctions\"], results_nl):\n    if(deg_subfonctions[0][0] < min_degs[0]):\n        min_degs[0] = deg_subfonctions[0][0]\n    if(nl_subfonctions[0][0] < min_nls[0]):\n        min_nls[0] = nl_subfonctions[0][0]\n    if(min(deg_subfonctions[1] + deg_subfonctions[4]) < min_degs[1]):\n        min_degs[1] = min(deg_subfonctions[1] + deg_subfonctions[4])\n    if(min(nl_subfonctions[1]) < min_nls[1]):\n        min_nls[1] = min(nl_subfonctions[1])\n    if(min(deg_subfonctions[2] + deg_subfonctions[3] + deg_subfonctions[5] + deg_subfonctions[6]) < min_degs[2]):\n        min_degs[2] = min(deg_subfonctions[2] + deg_subfonctions[3] + deg_subfonctions[5] + deg_subfonctions[6])\n    if(min(nl_subfonctions[2]) < min_nls[2]):\n        min_nls[2] = min(nl_subfonctions[2])\n        \nprint(min_degs, min_nls)  ",
      "metadata": {},
      "execution_count": 3,
      "outputs": [
        {
          "name": "stdout",
          "output_type": "stream",
          "text": "[17, 16, 15] [129757, 64516, 32013]\n"
        }
      ]
    },
    {
      "cell_type": "code",
      "source": "l = []\nfor nm in results[\"nb_monomials\"]:\n    l.append(nm)\nprint(log2(min(l)))",
      "metadata": {},
      "execution_count": 4,
      "outputs": [
        {
          "name": "stdout",
          "output_type": "stream",
          "text": "16.99614243592173\n"
        }
      ]
    },
    {
      "cell_type": "markdown",
      "source": "## Nonlinearity of direct sum",
      "metadata": {}
    },
    {
      "cell_type": "code",
      "source": "RR = RealField(500)",
      "metadata": {},
      "execution_count": 17,
      "outputs": []
    },
    {
      "cell_type": "code",
      "source": "def nl_ds(nl_f, n_f, nl_g, n_g):\n    return (1<<n_g) * nl_f + (1<<n_f) * nl_g - 2 * nl_f * nl_g",
      "metadata": {},
      "execution_count": 18,
      "outputs": []
    },
    {
      "cell_type": "code",
      "source": "# DS without leakages\n\nnl_f = 2083058\nn_f = 22\nn_terms = 14",
      "metadata": {},
      "execution_count": 34,
      "outputs": []
    },
    {
      "cell_type": "code",
      "source": "max_walsh = (1<<n_f) - 2*nl_f\nprint(max_walsh)\nnew_nl_f = (1<<(n_terms*n_f - 1)) - (max_walsh**n_terms) // 2\nRR(new_nl_f) / RR((1<<(n_terms*n_f)))",
      "metadata": {},
      "execution_count": 35,
      "outputs": [
        {
          "name": "stdout",
          "output_type": "stream",
          "text": "28188\n"
        },
        {
          "execution_count": 35,
          "output_type": "execute_result",
          "data": {
            "text/plain": [
              "0.499999999999999999999999999999808296068578849465239276178411850377160278824747820449469558968128474057767413112179929387236378653801508175578666208999"
            ]
          },
          "metadata": {}
        }
      ]
    },
    {
      "cell_type": "markdown",
      "source": "## Nb monom complexity",
      "metadata": {}
    },
    {
      "cell_type": "code",
      "source": "N = 512\nn = 6\nlog_nb_monom = 22.95\n\nfloor(log((math.comb(N, n) * (2**log_nb_monom))**2, 2))",
      "metadata": {},
      "execution_count": 39,
      "outputs": [
        {
          "execution_count": 39,
          "output_type": "execute_result",
          "data": {
            "text/plain": [
              "134"
            ]
          },
          "metadata": {}
        }
      ]
    },
    {
      "cell_type": "markdown",
      "source": "## Algebraic attacks complexities",
      "metadata": {}
    },
    {
      "cell_type": "code",
      "source": "def log2(x):\n    return log(x, 2)",
      "metadata": {},
      "execution_count": 55,
      "outputs": []
    },
    {
      "cell_type": "code",
      "source": "N = 2048 - 28\nAI = 12\nfloor(log2(sum([binomial(N, i) for i in range(1, AI + 1)]) ** log2(7)))",
      "metadata": {},
      "execution_count": 56,
      "outputs": [
        {
          "execution_count": 56,
          "output_type": "execute_result",
          "data": {
            "text/plain": [
              "288"
            ]
          },
          "metadata": {}
        }
      ]
    },
    {
      "cell_type": "code",
      "source": "for AI in range(10,15):\n    for N in [2048, 2048 - 13, 2048 - 27]:\n        D = sum([binomial(N, i) for i in range(1, AI + 2)])\n        E = N\n        print('AI =', AI, 'N =', N, floor(log2(D*(log2(D)**2) + E*D*log2(D) + E**log2(7))))",
      "metadata": {},
      "execution_count": 59,
      "outputs": [
        {
          "name": "stdout",
          "output_type": "stream",
          "text": "AI = 10 N = 2048 113\n\nAI = 10 N = 2035 113\n\nAI = 10 N = 2021 113\n\nAI = 11 N = 2048 120\n\nAI = 11 N = 2035 120\n\nAI = 11 N = 2021 120\n\nAI = 12 N = 2048 128\n\nAI = 12 N = 2035 128\n\nAI = 12 N = 2021 128\n\nAI = 13 N = 2048 135\n\nAI = 13 N = 2035 135\n\nAI = 13 N = 2021 135\n\nAI = 14 N = 2048 142\n\nAI = 14 N = 2035 142\n\nAI = 14 N = 2021 142\n"
        }
      ]
    },
    {
      "cell_type": "markdown",
      "source": "## Counting polyfunctions\nhttps://arxiv.org/pdf/2106.11788.pdf Prop 26 page 22",
      "metadata": {}
    },
    {
      "cell_type": "code",
      "source": "import itertools",
      "metadata": {
        "trusted": true
      },
      "execution_count": 2,
      "outputs": []
    },
    {
      "cell_type": "code",
      "source": "# returns the exponent, only works for p=2\n\ndef epk(k):\n    ret = 0\n    for e in k:\n        buf = 0\n        for i in range(e.bit_length()):\n            buf += e>>(i+1)\n        ret += buf\n    return ret",
      "metadata": {
        "trusted": true
      },
      "execution_count": 4,
      "outputs": []
    },
    {
      "cell_type": "code",
      "source": "def count_log_polyfunction(nb_var):\n    ret = 0\n    for k in itertools.product(*(range(6) for _ in range(nb_var))):\n        e = epk(k)\n        if (e < 4):\n            ret += 4-e\n    return ret",
      "metadata": {
        "trusted": true
      },
      "execution_count": 5,
      "outputs": []
    },
    {
      "cell_type": "code",
      "source": "for i in range(4, 7):\n    nb_polyfunctions = count_log_polyfunction(i)\n    print(i, 'variables polyfunctions log:', nb_polyfunctions, ' - ratio with functions: 2^'+str(nb_polyfunctions - (1<<(4*i + 2))))",
      "metadata": {
        "trusted": true
      },
      "execution_count": 6,
      "outputs": [
        {
          "name": "stdout",
          "text": "4 variables polyfunctions log: 576  - ratio with functions: 2^-261568\n5 variables polyfunctions log: 1728  - ratio with functions: 2^-4192576\n6 variables polyfunctions log: 4992  - ratio with functions: 2^-67103872\n",
          "output_type": "stream"
        }
      ]
    }
  ]
}